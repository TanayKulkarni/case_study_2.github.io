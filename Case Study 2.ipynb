{
 "cells": [
  {
   "cell_type": "markdown",
   "metadata": {
    "id": "ZL8wF4GwKLrH"
   },
   "source": [
    "# Case Study 2\n",
    "\n",
    "There is 1 dataset(csv) with 3 years’ worth of customer orders. There are 4 columns in the csv dataset: index,\n",
    "CUSTOMER_EMAIL (unique identifier as hash), Net Revenue, and Year. \n"
   ]
  },
  {
   "cell_type": "code",
   "execution_count": 195,
   "metadata": {
    "id": "3VoqJ_7sQDYT"
   },
   "outputs": [],
   "source": [
    "import pandas as pd      \n",
    "import seaborn as sns\n",
    "import matplotlib.pyplot as plt\n",
    "import warnings \n",
    "warnings.filterwarnings('ignore')\n",
    "df=pd.read_csv('casestudy.csv')    #read the dataset in dataframe df"
   ]
  },
  {
   "cell_type": "markdown",
   "metadata": {
    "id": "znfPBS0NKKk8"
   },
   "source": [
    "Input the current year:"
   ]
  },
  {
   "cell_type": "code",
   "execution_count": 196,
   "metadata": {
    "colab": {
     "base_uri": "https://localhost:8080/"
    },
    "id": "RWQlh9mE3okX",
    "outputId": "4453af23-6764-4cf7-cf56-bd5b131403c6",
    "scrolled": true
   },
   "outputs": [
    {
     "name": "stdout",
     "output_type": "stream",
     "text": [
      "Enter year :2017\n"
     ]
    }
   ],
   "source": [
    "num = int(input (\"Enter year :\"))\n",
    "if num == 2016:\n",
    "    df = df[df['year']!=2017]"
   ]
  },
  {
   "cell_type": "markdown",
   "metadata": {
    "id": "M_MxyXyN4tot"
   },
   "source": [
    "**1) Total revenue for the current year**\n",
    "\n"
   ]
  },
  {
   "cell_type": "code",
   "execution_count": 197,
   "metadata": {
    "id": "bV2PObhX3os_"
   },
   "outputs": [],
   "source": [
    "data_of_current_year = df[df.year == num]"
   ]
  },
  {
   "cell_type": "code",
   "execution_count": 198,
   "metadata": {
    "id": "AAyUTWhG3ov0"
   },
   "outputs": [],
   "source": [
    "total_revenue_of_current_year = data_of_current_year['net_revenue'].sum()"
   ]
  },
  {
   "cell_type": "code",
   "execution_count": 199,
   "metadata": {
    "colab": {
     "base_uri": "https://localhost:8080/"
    },
    "id": "wVv1zaH2Mq7W",
    "outputId": "b363e0f6-1512-4654-ee6f-fba526799f5b"
   },
   "outputs": [
    {
     "data": {
      "text/plain": [
       "31417495.030000016"
      ]
     },
     "execution_count": 199,
     "metadata": {},
     "output_type": "execute_result"
    }
   ],
   "source": [
    "total_revenue_of_current_year"
   ]
  },
  {
   "cell_type": "markdown",
   "metadata": {},
   "source": [
    "Since it is not clear what current year is, we can consider taking input from the user itself"
   ]
  },
  {
   "cell_type": "markdown",
   "metadata": {
    "id": "nHgaH3ub9ajJ"
   },
   "source": [
    "**2) New Customer Revenue**"
   ]
  },
  {
   "cell_type": "code",
   "execution_count": 200,
   "metadata": {
    "id": "cz3xZHpC3oyg"
   },
   "outputs": [],
   "source": [
    "data = df.pivot(index=[\"customer_email\"],  # Columns that will not change\n",
    "                  columns=\"year\",        # Column holding new column names/categories\n",
    "                  values=\"net_revenue\")  # Name of value column to spread"
   ]
  },
  {
   "cell_type": "code",
   "execution_count": 201,
   "metadata": {
    "id": "N9cGhISgSP-t"
   },
   "outputs": [],
   "source": [
    "q2 = data[data[num-1].isna() & data[num].notna()]"
   ]
  },
  {
   "cell_type": "code",
   "execution_count": 202,
   "metadata": {
    "id": "oqxYFpDsSQE8"
   },
   "outputs": [],
   "source": [
    "total_revenue_newcust = q2[num].sum()"
   ]
  },
  {
   "cell_type": "code",
   "execution_count": 203,
   "metadata": {
    "colab": {
     "base_uri": "https://localhost:8080/"
    },
    "id": "hVOyh10IS3L3",
    "outputId": "362d4365-5d1a-4884-8a12-f53f487bd16b"
   },
   "outputs": [
    {
     "data": {
      "text/plain": [
       "28776235.039999995"
      ]
     },
     "execution_count": 203,
     "metadata": {},
     "output_type": "execute_result"
    }
   ],
   "source": [
    "total_revenue_newcust"
   ]
  },
  {
   "cell_type": "markdown",
   "metadata": {
    "id": "-AB6fyhCS5N4"
   },
   "source": [
    "**3) Existing Customer Growth** \n",
    "\n",
    "To calculate this, use the Revenue of existing customers for current year –(minus) Revenue of existing customers from the previous year"
   ]
  },
  {
   "cell_type": "code",
   "execution_count": 204,
   "metadata": {
    "id": "fXxLXqwXIJUy"
   },
   "outputs": [],
   "source": [
    "data1 = data[[num,num-1]]  #filtering only current and previous year data"
   ]
  },
  {
   "cell_type": "code",
   "execution_count": 205,
   "metadata": {
    "id": "9dsDZZ1dIJX6"
   },
   "outputs": [],
   "source": [
    "q3 = data1[data1[num].notna() & data1[num-1].notna()]    #removing all the nan data for current and previous year "
   ]
  },
  {
   "cell_type": "code",
   "execution_count": 206,
   "metadata": {
    "colab": {
     "base_uri": "https://localhost:8080/"
    },
    "id": "sZDQAyzJKG5H",
    "outputId": "8efe500d-4951-4070-ae83-804aad7257e0",
    "scrolled": true
   },
   "outputs": [],
   "source": [
    "q3['Growth'] = q3[num] - q3[num-1]   #finding the growth"
   ]
  },
  {
   "cell_type": "code",
   "execution_count": 207,
   "metadata": {},
   "outputs": [
    {
     "data": {
      "text/html": [
       "<div>\n",
       "<style scoped>\n",
       "    .dataframe tbody tr th:only-of-type {\n",
       "        vertical-align: middle;\n",
       "    }\n",
       "\n",
       "    .dataframe tbody tr th {\n",
       "        vertical-align: top;\n",
       "    }\n",
       "\n",
       "    .dataframe thead th {\n",
       "        text-align: right;\n",
       "    }\n",
       "</style>\n",
       "<table border=\"1\" class=\"dataframe\">\n",
       "  <thead>\n",
       "    <tr style=\"text-align: right;\">\n",
       "      <th>year</th>\n",
       "      <th>2017</th>\n",
       "      <th>2016</th>\n",
       "      <th>Growth</th>\n",
       "    </tr>\n",
       "    <tr>\n",
       "      <th>customer_email</th>\n",
       "      <th></th>\n",
       "      <th></th>\n",
       "      <th></th>\n",
       "    </tr>\n",
       "  </thead>\n",
       "  <tbody>\n",
       "    <tr>\n",
       "      <th>aabmjtmoae@gmail.com</th>\n",
       "      <td>64.32</td>\n",
       "      <td>124.29</td>\n",
       "      <td>-59.97</td>\n",
       "    </tr>\n",
       "    <tr>\n",
       "      <th>aabokiywci@gmail.com</th>\n",
       "      <td>119.83</td>\n",
       "      <td>9.95</td>\n",
       "      <td>109.88</td>\n",
       "    </tr>\n",
       "    <tr>\n",
       "      <th>aabuefrfjq@gmail.com</th>\n",
       "      <td>84.30</td>\n",
       "      <td>131.22</td>\n",
       "      <td>-46.92</td>\n",
       "    </tr>\n",
       "    <tr>\n",
       "      <th>aacpbgkntc@gmail.com</th>\n",
       "      <td>8.28</td>\n",
       "      <td>136.06</td>\n",
       "      <td>-127.78</td>\n",
       "    </tr>\n",
       "    <tr>\n",
       "      <th>aadbgmnypp@gmail.com</th>\n",
       "      <td>115.23</td>\n",
       "      <td>86.82</td>\n",
       "      <td>28.41</td>\n",
       "    </tr>\n",
       "    <tr>\n",
       "      <th>...</th>\n",
       "      <td>...</td>\n",
       "      <td>...</td>\n",
       "      <td>...</td>\n",
       "    </tr>\n",
       "    <tr>\n",
       "      <th>zzurtiklzf@gmail.com</th>\n",
       "      <td>199.13</td>\n",
       "      <td>176.10</td>\n",
       "      <td>23.03</td>\n",
       "    </tr>\n",
       "    <tr>\n",
       "      <th>zzvasxeybi@gmail.com</th>\n",
       "      <td>237.84</td>\n",
       "      <td>11.88</td>\n",
       "      <td>225.96</td>\n",
       "    </tr>\n",
       "    <tr>\n",
       "      <th>zzvgdegvtp@gmail.com</th>\n",
       "      <td>107.59</td>\n",
       "      <td>79.93</td>\n",
       "      <td>27.66</td>\n",
       "    </tr>\n",
       "    <tr>\n",
       "      <th>zzwelbhzzy@gmail.com</th>\n",
       "      <td>161.99</td>\n",
       "      <td>138.74</td>\n",
       "      <td>23.25</td>\n",
       "    </tr>\n",
       "    <tr>\n",
       "      <th>zzwyzwsesu@gmail.com</th>\n",
       "      <td>16.78</td>\n",
       "      <td>242.92</td>\n",
       "      <td>-226.14</td>\n",
       "    </tr>\n",
       "  </tbody>\n",
       "</table>\n",
       "<p>20959 rows × 3 columns</p>\n",
       "</div>"
      ],
      "text/plain": [
       "year                    2017    2016  Growth\n",
       "customer_email                              \n",
       "aabmjtmoae@gmail.com   64.32  124.29  -59.97\n",
       "aabokiywci@gmail.com  119.83    9.95  109.88\n",
       "aabuefrfjq@gmail.com   84.30  131.22  -46.92\n",
       "aacpbgkntc@gmail.com    8.28  136.06 -127.78\n",
       "aadbgmnypp@gmail.com  115.23   86.82   28.41\n",
       "...                      ...     ...     ...\n",
       "zzurtiklzf@gmail.com  199.13  176.10   23.03\n",
       "zzvasxeybi@gmail.com  237.84   11.88  225.96\n",
       "zzvgdegvtp@gmail.com  107.59   79.93   27.66\n",
       "zzwelbhzzy@gmail.com  161.99  138.74   23.25\n",
       "zzwyzwsesu@gmail.com   16.78  242.92 -226.14\n",
       "\n",
       "[20959 rows x 3 columns]"
      ]
     },
     "execution_count": 207,
     "metadata": {},
     "output_type": "execute_result"
    }
   ],
   "source": [
    "q3"
   ]
  },
  {
   "cell_type": "markdown",
   "metadata": {
    "id": "8m3HGKC8lzUn"
   },
   "source": [
    "**4) Revenue lost from attrition**"
   ]
  },
  {
   "cell_type": "code",
   "execution_count": 208,
   "metadata": {
    "id": "PhVEh_W0l6X_"
   },
   "outputs": [],
   "source": [
    "q4 = data[data[num-1].notna() & data[num].isnull()] "
   ]
  },
  {
   "cell_type": "code",
   "execution_count": 209,
   "metadata": {
    "id": "7xbGhRtMl_a5"
   },
   "outputs": [],
   "source": [
    "revenue_Lost_from_Attrition = q4[num-1].sum()"
   ]
  },
  {
   "cell_type": "code",
   "execution_count": 210,
   "metadata": {},
   "outputs": [
    {
     "data": {
      "text/plain": [
       "23110294.94"
      ]
     },
     "execution_count": 210,
     "metadata": {},
     "output_type": "execute_result"
    }
   ],
   "source": [
    "revenue_Lost_from_Attrition"
   ]
  },
  {
   "cell_type": "markdown",
   "metadata": {
    "id": "MWChBDWZYNZM"
   },
   "source": [
    "**5) Existing Customer Revenue Current Year**"
   ]
  },
  {
   "cell_type": "code",
   "execution_count": 211,
   "metadata": {
    "id": "hTakgruLYLbU"
   },
   "outputs": [],
   "source": [
    "q5 = data[data[num].notna() & data[num-1].notna()] #filtering on customers who didnt buy in current year and prior year"
   ]
  },
  {
   "cell_type": "code",
   "execution_count": 212,
   "metadata": {
    "id": "xXlnk767YfW7"
   },
   "outputs": [],
   "source": [
    "Existing_Customer_Revenue_Current_Year = q5[num].sum()       #finding the total revenue for existing customer in current year"
   ]
  },
  {
   "cell_type": "code",
   "execution_count": 213,
   "metadata": {},
   "outputs": [
    {
     "data": {
      "text/plain": [
       "2641259.99"
      ]
     },
     "execution_count": 213,
     "metadata": {},
     "output_type": "execute_result"
    }
   ],
   "source": [
    "Existing_Customer_Revenue_Current_Year"
   ]
  },
  {
   "cell_type": "markdown",
   "metadata": {
    "id": "wjG_izNqYrgl"
   },
   "source": [
    "**6) Existing Customer Revenue Prior Year**"
   ]
  },
  {
   "cell_type": "code",
   "execution_count": 214,
   "metadata": {
    "id": "36esRKiBYorQ"
   },
   "outputs": [],
   "source": [
    "Existing_Customer_Revenue_Prior_Year = q5[num-1].sum()   #finding the total revenue for existing customer in prior year"
   ]
  },
  {
   "cell_type": "code",
   "execution_count": 215,
   "metadata": {},
   "outputs": [
    {
     "data": {
      "text/plain": [
       "2620648.65"
      ]
     },
     "execution_count": 215,
     "metadata": {},
     "output_type": "execute_result"
    }
   ],
   "source": [
    "Existing_Customer_Revenue_Prior_Year"
   ]
  },
  {
   "cell_type": "markdown",
   "metadata": {
    "id": "rJWyJm9MyLiN"
   },
   "source": [
    "**7) Total Customers Current Year**"
   ]
  },
  {
   "cell_type": "code",
   "execution_count": 216,
   "metadata": {
    "id": "VCnnh8mpY3bk"
   },
   "outputs": [],
   "source": [
    "total_Customers_Current_Year = len(data[data[num].notna()]) #removing all the customers who didnt buy in 2017 and then counting the total customers in current year"
   ]
  },
  {
   "cell_type": "code",
   "execution_count": 217,
   "metadata": {},
   "outputs": [
    {
     "data": {
      "text/plain": [
       "249987"
      ]
     },
     "execution_count": 217,
     "metadata": {},
     "output_type": "execute_result"
    }
   ],
   "source": [
    "total_Customers_Current_Year"
   ]
  },
  {
   "cell_type": "markdown",
   "metadata": {
    "id": "_ax4YsglzlUV"
   },
   "source": [
    "**8) Total Customers Previous Year**"
   ]
  },
  {
   "cell_type": "code",
   "execution_count": 218,
   "metadata": {
    "id": "h3xrpLnEY3et"
   },
   "outputs": [],
   "source": [
    "total_Customers_Previous_Year = len(data[data[int(num)-1].notna()]) #removing all the customers who didnt buy in 2016 and then counting the total customers in prior year"
   ]
  },
  {
   "cell_type": "markdown",
   "metadata": {
    "id": "9TZg8jlSzn2e"
   },
   "source": [
    "**9) New Customers**"
   ]
  },
  {
   "cell_type": "code",
   "execution_count": 219,
   "metadata": {
    "id": "ARMnul9-Y3hc"
   },
   "outputs": [],
   "source": [
    "\n",
    "def new_customers_(yr):\n",
    "    if yr == 2017:\n",
    "        return  len(data[data[num-2].isnull() & data[num-1].isnull() & data[num].notna()])   \n",
    "    else:\n",
    "        return len(data[num-1].isnull() & data[num].notna())"
   ]
  },
  {
   "cell_type": "code",
   "execution_count": 220,
   "metadata": {},
   "outputs": [
    {
     "data": {
      "text/plain": [
       "604618"
      ]
     },
     "execution_count": 220,
     "metadata": {},
     "output_type": "execute_result"
    }
   ],
   "source": [
    "new_customers_(2016)"
   ]
  },
  {
   "cell_type": "markdown",
   "metadata": {
    "id": "twrugeyy5px2"
   },
   "source": [
    "**10) Lost Customers**"
   ]
  },
  {
   "cell_type": "code",
   "execution_count": 221,
   "metadata": {
    "id": "EdJGVq4RY3k1"
   },
   "outputs": [],
   "source": [
    "def lost_customers_(yr):\n",
    "    return len(data[data[yr].isnull()]) #filtering on customers who bought previous all years but not in current year "
   ]
  },
  {
   "cell_type": "code",
   "execution_count": 222,
   "metadata": {},
   "outputs": [
    {
     "data": {
      "text/plain": [
       "354631"
      ]
     },
     "execution_count": 222,
     "metadata": {},
     "output_type": "execute_result"
    }
   ],
   "source": [
    "lost_customers_(num)"
   ]
  },
  {
   "cell_type": "markdown",
   "metadata": {},
   "source": [
    "The average net revenue for all the years is the same"
   ]
  },
  {
   "cell_type": "code",
   "execution_count": 223,
   "metadata": {},
   "outputs": [],
   "source": [
    "r = pd.DataFrame(df.groupby('year')['net_revenue'].sum()).reset_index()\n",
    "c = pd.DataFrame(df.groupby('year').count()).reset_index()"
   ]
  },
  {
   "cell_type": "code",
   "execution_count": 236,
   "metadata": {},
   "outputs": [
    {
     "data": {
      "text/plain": [
       "Text(0.5, 1.0, 'Net Revenue over years')"
      ]
     },
     "execution_count": 236,
     "metadata": {},
     "output_type": "execute_result"
    },
    {
     "data": {
      "image/png": "[encoded data removed]",
      "text/plain": [
       "<Figure size 432x288 with 1 Axes>"
      ]
     },
     "metadata": {
      "needs_background": "light"
     },
     "output_type": "display_data"
    }
   ],
   "source": [
    "sns.barplot(x = r['year'], y = r['net_revenue'])\n",
    "plt.xlabel('Year')\n",
    "plt.ylabel('Net Revenue')\n",
    "plt.title('Net Revenue over years')"
   ]
  },
  {
   "cell_type": "markdown",
   "metadata": {},
   "source": [
    "Here we can see that the net revenue decreased in 2016 from 2015 but then again increased in 2017"
   ]
  },
  {
   "cell_type": "code",
   "execution_count": 237,
   "metadata": {},
   "outputs": [
    {
     "data": {
      "text/plain": [
       "Text(0.5, 1.0, 'Count of Customers over years')"
      ]
     },
     "execution_count": 237,
     "metadata": {},
     "output_type": "execute_result"
    },
    {
     "data": {
      "image/png": "[encoded data removed]",
      "text/plain": [
       "<Figure size 432x288 with 1 Axes>"
      ]
     },
     "metadata": {
      "needs_background": "light"
     },
     "output_type": "display_data"
    }
   ],
   "source": [
    "sns.barplot(x = c['year'], y = c['customer_email'])\n",
    "plt.xlabel('Year')\n",
    "plt.ylabel('Count of Customers')\n",
    "plt.title('Count of Customers over years')"
   ]
  },
  {
   "cell_type": "markdown",
   "metadata": {},
   "source": [
    "Here we can see that the number of customers decreased in 2016 from 2015 but then again increased in 2017 which aligns with the structure of net revenue"
   ]
  },
  {
   "cell_type": "code",
   "execution_count": 238,
   "metadata": {},
   "outputs": [
    {
     "data": {
      "text/plain": [
       "Text(0.5, 1.0, 'New Customers over years')"
      ]
     },
     "execution_count": 238,
     "metadata": {},
     "output_type": "execute_result"
    },
    {
     "data": {
      "image/png": "[encoded data removed]",
      "text/plain": [
       "<Figure size 432x288 with 1 Axes>"
      ]
     },
     "metadata": {
      "needs_background": "light"
     },
     "output_type": "display_data"
    }
   ],
   "source": [
    "sns.barplot(x = ['2016','2017'], y = [new_customers_(2016),new_customers_(2017)])\n",
    "plt.xlabel('Year')\n",
    "plt.ylabel('New Customers')\n",
    "plt.title('New Customers over years')"
   ]
  },
  {
   "cell_type": "markdown",
   "metadata": {},
   "source": [
    "Though there are not many new customers in 2017, it seems that an increase revenue means that the existing customers ordered more\n"
   ]
  },
  {
   "cell_type": "code",
   "execution_count": 240,
   "metadata": {},
   "outputs": [
    {
     "data": {
      "text/plain": [
       "Text(0.5, 1.0, 'Growth count from 2016 to 2017')"
      ]
     },
     "execution_count": 240,
     "metadata": {},
     "output_type": "execute_result"
    },
    {
     "data": {
      "image/png": "[encoded data removed]",
      "text/plain": [
       "<Figure size 432x288 with 1 Axes>"
      ]
     },
     "metadata": {
      "needs_background": "light"
     },
     "output_type": "display_data"
    }
   ],
   "source": [
    "a = q3['Growth']\n",
    "cnt,cnt_ = 0,0\n",
    "for i in a:\n",
    "    if i>=0:cnt+=1\n",
    "    else:cnt_+=1\n",
    "sns.barplot(x = ['positive growth','negative growth'], y = [cnt,cnt_])\n",
    "plt.ylabel('Count of Growth of Customers')\n",
    "plt.xlabel('Growth')\n",
    "plt.title('Growth count from 2016 to 2017')"
   ]
  },
  {
   "cell_type": "markdown",
   "metadata": {},
   "source": [
    "We can see that though the number of customers who grew positively is almost equivalent to the ones who grew negatively, the positve ones are more"
   ]
  },
  {
   "cell_type": "code",
   "execution_count": 241,
   "metadata": {},
   "outputs": [
    {
     "data": {
      "text/plain": [
       "Text(0.5, 1.0, 'Lost Customers over years')"
      ]
     },
     "execution_count": 241,
     "metadata": {},
     "output_type": "execute_result"
    },
    {
     "data": {
      "image/png": "[encoded data removed]",
      "text/plain": [
       "<Figure size 432x288 with 1 Axes>"
      ]
     },
     "metadata": {
      "needs_background": "light"
     },
     "output_type": "display_data"
    }
   ],
   "source": [
    "sns.barplot(x = ['2016','2017'], y = [lost_customers_(2016),lost_customers_(2017)])\n",
    "plt.xlabel('Year')\n",
    "plt.ylabel('Lost Customers')\n",
    "plt.title('Lost Customers over years')"
   ]
  },
  {
   "cell_type": "markdown",
   "metadata": {},
   "source": [
    "The business did not lose many customers after 2016 till 2017"
   ]
  },
  {
   "cell_type": "code",
   "execution_count": null,
   "metadata": {},
   "outputs": [],
   "source": []
  },
  {
   "cell_type": "code",
   "execution_count": null,
   "metadata": {},
   "outputs": [],
   "source": []
  }
 ],
 "metadata": {
  "colab": {
   "collapsed_sections": [],
   "name": "Untitled13.ipynb",
   "provenance": []
  },
  "kernelspec": {
   "display_name": "Python 3",
   "language": "python",
   "name": "python3"
  },
  "language_info": {
   "codemirror_mode": {
    "name": "ipython",
    "version": 3
   },
   "file_extension": ".py",
   "mimetype": "text/x-python",
   "name": "python",
   "nbconvert_exporter": "python",
   "pygments_lexer": "ipython3",
   "version": "3.9.2"
  }
 },
 "nbformat": 4,
 "nbformat_minor": 1
}
